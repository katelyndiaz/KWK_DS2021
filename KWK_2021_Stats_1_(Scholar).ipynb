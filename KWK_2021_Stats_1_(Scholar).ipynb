{
  "nbformat": 4,
  "nbformat_minor": 0,
  "metadata": {
    "colab": {
      "name": "KWK_2021_Stats#1 (Scholar).ipynb",
      "provenance": [],
      "collapsed_sections": [],
      "include_colab_link": true
    },
    "kernelspec": {
      "name": "python3",
      "display_name": "Python 3"
    }
  },
  "cells": [
    {
      "cell_type": "markdown",
      "metadata": {
        "id": "view-in-github",
        "colab_type": "text"
      },
      "source": [
        "<a href=\"https://colab.research.google.com/github/katelyndiaz/KWK_DS2021/blob/main/KWK_2021_Stats_1_(Scholar).ipynb\" target=\"_parent\"><img src=\"https://colab.research.google.com/assets/colab-badge.svg\" alt=\"Open In Colab\"/></a>"
      ]
    },
    {
      "cell_type": "markdown",
      "metadata": {
        "id": "-xPbOREASCn8"
      },
      "source": [
        "# 📈 **Intro to Stats** 📈\n",
        "\n",
        "First, go to `file > save a copy in drive`. This will make a new copy of this notebook. Next, open your new notebook and go to `edit > clear all outputs`. This will make sure that when you run your code, the output is not already shown. \n"
      ]
    },
    {
      "cell_type": "markdown",
      "metadata": {
        "id": "FKQLzg1FzHaR"
      },
      "source": [
        "## 🎯 **Learning Goals**\n",
        "\n",
        "- Understand core statistical concepts when exploring a new dataset\n",
        "- Use Python to explore descriptive statistics of a dataframe\n",
        "- Describe and apply various measures of central tendency and spread\n"
      ]
    },
    {
      "cell_type": "markdown",
      "metadata": {
        "id": "Q0v1we33zZZJ"
      },
      "source": [
        "## 📗 **Technical Vocabulary** \n",
        "- Descriptive Statistics \n",
        "- Inferential Statistics\n",
        "- Measures of central tendency\n",
        "- Mean, median, mode\n",
        "- Measures of spread\n",
        "- Variance\n",
        "- Standard Deviation\n",
        "- Percentiles\n",
        "- Ranges\n",
        "\n",
        "\n",
        "\n",
        "\n",
        "\n"
      ]
    },
    {
      "cell_type": "markdown",
      "metadata": {
        "id": "2T85HiCtvigX"
      },
      "source": [
        "### **Importing Packages**"
      ]
    },
    {
      "cell_type": "code",
      "metadata": {
        "id": "Yw86ZMtaq-kp"
      },
      "source": [
        "# importing packages \n"
      ],
      "execution_count": null,
      "outputs": []
    },
    {
      "cell_type": "markdown",
      "metadata": {
        "id": "8aHuhSTm-8by"
      },
      "source": [
        "## 🌎 **What is Statistics?**\n",
        "\n",
        "Statistics is the study of how to collect, analyze, and draw conclusions from data. It’s a hugely valuable tool that you can use to bring the future into focus and infer the answer to tons of questions. For example, what is the likelihood of someone purchasing your product, how many calls will your support team receive, and how many jeans sizes should you manufacture to fit 95% of the population? \n",
        "\n",
        "\n"
      ]
    },
    {
      "cell_type": "markdown",
      "metadata": {
        "id": "Tq6jklMexxKl"
      },
      "source": [
        "#### **Population and Samples** \n",
        "\n",
        "In statistics, the population is a set of all elements or items that you’re interested in. Populations are often vast, which makes them inappropriate for collecting and analyzing data. That’s why statisticians usually try to make some conclusions about a population by choosing and examining a representative subset of that population.\n",
        "\n",
        "This subset of a population is called a sample. Ideally, the sample should preserve the essential statistical features of the population to a satisfactory extent. That way, you’ll be able to use the sample to glean conclusions about the population ([source](https://realpython.com/python-statistics/))."
      ]
    },
    {
      "cell_type": "markdown",
      "metadata": {
        "id": "Xz9oj-vO_KnS"
      },
      "source": [
        "## 🧮  **Descriptive & Inferential Statistics** \n",
        "\n",
        " "
      ]
    },
    {
      "cell_type": "markdown",
      "metadata": {
        "id": "VsqMKrcqyo1o"
      },
      "source": [
        "#### **Descriptive Statistics**\n",
        "\n",
        "Descriptive statistics describe a sample. You simply take a group that you’re interested in, record data about the group members, and then use summary statistics and graphs to present the group properties [(source)](https://statisticsbyjim.com/basics/descriptive-inferential-statistics/). "
      ]
    },
    {
      "cell_type": "markdown",
      "metadata": {
        "id": "-8HRLMccyseN"
      },
      "source": [
        "#### **Inferential Statistics**\n",
        "\n",
        "Inferential statistics takes data from a sample and makes inferences about the larger population from which the sample was drawn. Because the goal of inferential statistics is to draw conclusions from a sample and generalize them to a population, we need to have confidence that our sample accurately reflects the population [(source)](https://statisticsbyjim.com/basics/descriptive-inferential-statistics/).\n"
      ]
    },
    {
      "cell_type": "markdown",
      "metadata": {
        "id": "u-lcw_TD_P_o"
      },
      "source": [
        "## 📏 **Measures of Central Tendency**\n",
        "\n",
        "A measure of central tendency is a single value that attempts to describe a set of data by identifying the central position within that set of data. The 3 most common measures of central tendency are mean, median, and mode."
      ]
    },
    {
      "cell_type": "markdown",
      "metadata": {
        "id": "i35_YySTy7ML"
      },
      "source": [
        "#### **Mean**\n",
        "\n",
        "This is the term for what we generally call an \"average\".  We add all of the numbers in our data set, and then divide by the size of the set. Sometimes a mean can be misleading and may not effectively show a typical value in our dataset. This is because a mean might be influenced by the outliers. Outliers are the numbers which are either extremely high or extremely low compared to the rest of the numbers in a dataset.\n",
        "\n"
      ]
    },
    {
      "cell_type": "markdown",
      "metadata": {
        "id": "mQv9s2YLqi6R"
      },
      "source": [
        "You can calculate the mean with pure Python using `sum()` and `len()`, without importing libraries:\n",
        "\n",
        "```\n",
        "mean = sum(x) / len(x)\n",
        "print(mean)\n",
        "```"
      ]
    },
    {
      "cell_type": "markdown",
      "metadata": {
        "id": "1Jb4pgCNqy7X"
      },
      "source": [
        "you can also apply built-in Python statistics functions:\n",
        "\n",
        "```\n",
        "dataframe_name[\"column_name\"].mean()\n",
        "```"
      ]
    },
    {
      "cell_type": "markdown",
      "metadata": {
        "id": "yrv1GRhwwNdd"
      },
      "source": [
        "**Now let's practice using a dataset...**\n",
        "\n",
        "Suppose 12 people went to a restaurant and all ordered atleast one item. Below is a dataset that describes the number of items each person ordered and the total price of their order.\n",
        "\n",
        "\n",
        "\n"
      ]
    },
    {
      "cell_type": "code",
      "metadata": {
        "id": "z4H_76Luqhhu"
      },
      "source": [
        "# creating our dataframe\n",
        "order = pd.DataFrame({'item_price':[2.39, 3.39, 3.39, 2.39, 16.98, 10.98, 1.69, 11.75, 9.25, 9.25, 4.45, 8.75],\n",
        "                   'items_ordered':[1,2,2,1,4,3,1,4,3,3,2,3 ]})\n",
        "\n",
        "# looking at our data\n"
      ],
      "execution_count": null,
      "outputs": []
    },
    {
      "cell_type": "code",
      "metadata": {
        "id": "25mLlsUqyNiQ"
      },
      "source": [
        "# calculating the mean \n"
      ],
      "execution_count": null,
      "outputs": []
    },
    {
      "cell_type": "markdown",
      "metadata": {
        "id": "mWYsErXX_hK9"
      },
      "source": [
        "This means that the average total order price was $7.05."
      ]
    },
    {
      "cell_type": "markdown",
      "metadata": {
        "id": "gOnqxBaUy9tM"
      },
      "source": [
        "#### **Median**\n",
        "\n",
        "for a given data set (of numbers), the median is the number that separates the top half of the data from the bottom half.  If the size of the data set is even )so there is no single data point in the middle), the median is given by the mean of the two middle values, after arranging the data into ascending order.\n",
        "\n",
        "Note: A median is not influenced by the outliers.\n",
        "\n",
        "\n",
        "\n"
      ]
    },
    {
      "cell_type": "markdown",
      "metadata": {
        "id": "VuRQHqvcs3sG"
      },
      "source": [
        "Calculating the median:\n",
        "\n",
        "```\n",
        "dataframe_name[\"column_name\"].median()\n",
        "```"
      ]
    },
    {
      "cell_type": "code",
      "metadata": {
        "id": "CM-BpHrqtcHU"
      },
      "source": [
        "# calculating the median \n"
      ],
      "execution_count": null,
      "outputs": []
    },
    {
      "cell_type": "markdown",
      "metadata": {
        "id": "hMonWiZEy_7X"
      },
      "source": [
        "#### **Mode**\n",
        "\n",
        "The \"mode\" is the value that occurs most often. If no number in the list is repeated, then there is no mode for the list.\n",
        "\n",
        "Calculating the mode:\n",
        "\n",
        "```\n",
        "dataframe_name[\"column_name\"].mode()\n",
        "```"
      ]
    },
    {
      "cell_type": "code",
      "metadata": {
        "id": "GJ4Cq0pMtkWg"
      },
      "source": [
        "# calculating the mode \n"
      ],
      "execution_count": null,
      "outputs": []
    },
    {
      "cell_type": "markdown",
      "metadata": {
        "id": "euiMIkjAA6Yz"
      },
      "source": [
        "## 📐 **Measures of Spread** \n",
        "\n",
        "A measure of spread, also called a measure of dispersion, is used to describe the variability in a sample or population. It is usually used in conjunction with a measure of central tendency, such as the mean or median, to provide an overall description of a set of data [(source)](https://statistics.laerd.com/statistical-guides/measures-of-spread-range-quartiles.php#:~:text=Introduction,of%20a%20set%20of%20data.).\n",
        "\n",
        "At KWK we'll be talking about four different measures of spread:\n",
        "- Variance\n",
        "- Standard Deviation\n",
        "- Percentiles\n",
        "- Ranges\n",
        "\n"
      ]
    },
    {
      "cell_type": "markdown",
      "metadata": {
        "id": "APRAVDyT0Xb0"
      },
      "source": [
        "### ☯️ **Variance**\n",
        "\n",
        "**Variance** is the average distance from each data point to the data's mean \n"
      ]
    },
    {
      "cell_type": "markdown",
      "metadata": {
        "id": "cOUMRunm0aqe"
      },
      "source": [
        "**Sample Variance** is the variance of a sample taken from the population.\n"
      ]
    },
    {
      "cell_type": "markdown",
      "metadata": {
        "id": "Ka_eUPhJ0dSv"
      },
      "source": [
        "**Population Variance** is the _variance_ of a population is the average of the squared distances from the mean.\n",
        "\n"
      ]
    },
    {
      "cell_type": "markdown",
      "metadata": {
        "id": "1N4B0Urvu5Qv"
      },
      "source": [
        "**Calculating variance using `np.var()`** "
      ]
    },
    {
      "cell_type": "code",
      "metadata": {
        "id": "fApMpvz8v8yF"
      },
      "source": [
        "# calculate the variance \n",
        "# ddof=1 calculates population variance instead of sample variance"
      ],
      "execution_count": null,
      "outputs": []
    },
    {
      "cell_type": "markdown",
      "metadata": {
        "id": "ymH1xANc0fCx"
      },
      "source": [
        "### 📊 **Standard Deviation**\n",
        "\n",
        "One common method to measure the variation of our dataset is to calculate the standard deviation (SD). The SD is just a measurement to tell how a set of values spread out from their mean. A low SD shows that the values are close to the mean and a high SD shows a high diversion from the mean.\n",
        "\n",
        "Note:\n",
        "- SD must be a positive number\n",
        "- SD is affected by outliers as its calculation is based on the mean\n",
        "- The smallest possible value of SD is zero. If SD is zero, all the numbers in a dataset share the same value.\n"
      ]
    },
    {
      "cell_type": "code",
      "metadata": {
        "id": "bqPJuWS99GPo"
      },
      "source": [
        "# calculated by taking the square root of the variance \n"
      ],
      "execution_count": null,
      "outputs": []
    },
    {
      "cell_type": "markdown",
      "metadata": {
        "id": "EFP1A4fXHh9v"
      },
      "source": [
        "We can also get the same result using the `np.std` function:"
      ]
    },
    {
      "cell_type": "code",
      "metadata": {
        "id": "yc_8ZQ_N9SZ6"
      },
      "source": [
        "# calculated using np.std function \n"
      ],
      "execution_count": null,
      "outputs": []
    },
    {
      "cell_type": "markdown",
      "metadata": {
        "id": "NMk50iRB1DDw"
      },
      "source": [
        "### 💯**Percentiles**\n",
        "\n",
        "A percentile is a measure used in statistics indicating the value below which a given percentage of observations in a group of observations falls. For example, the 20th percentile is the value below which 20% of the observations may be found. \n",
        "\n"
      ]
    },
    {
      "cell_type": "markdown",
      "metadata": {
        "id": "CHP9O1un1WEK"
      },
      "source": [
        "#### **Quantiles**\n",
        "\n",
        "Quantiles are the set of values/points that divides the dataset into groups of equal size. We can do this using the `np.quantile()` function:\n",
        "\n"
      ]
    },
    {
      "cell_type": "code",
      "metadata": {
        "id": "n4YW_pHi9rin"
      },
      "source": [
        "# find the 50th quantile\n"
      ],
      "execution_count": null,
      "outputs": []
    },
    {
      "cell_type": "markdown",
      "metadata": {
        "id": "xtxAkT_W92rL"
      },
      "source": [
        "This gives us 6.6 which means that 50% of individuals in the dataset ordered less than $6.6 worth of food and the other 50% ordered more (same as median)."
      ]
    },
    {
      "cell_type": "markdown",
      "metadata": {
        "id": "55OpL-2f1NQG"
      },
      "source": [
        "#### **Quartiles**\n",
        "\n",
        "The three dividing points (or quantiles) that split data into four equally sized groups are called quartiles. \n",
        "\n"
      ]
    },
    {
      "cell_type": "code",
      "metadata": {
        "id": "VfeXfLUe-SjO"
      },
      "source": [
        "# find the quartiles "
      ],
      "execution_count": null,
      "outputs": []
    },
    {
      "cell_type": "markdown",
      "metadata": {
        "id": "4fspxX7q-exY"
      },
      "source": [
        "This means that 25% of the data is between 1.69 and 3.14. Another 25% is between 3.14 and 6.6 and so on. "
      ]
    },
    {
      "cell_type": "markdown",
      "metadata": {
        "id": "0bucYItK1YOu"
      },
      "source": [
        "### ↔️ **Ranges**\n",
        "\n"
      ]
    },
    {
      "cell_type": "markdown",
      "metadata": {
        "id": "i587126k1ej6"
      },
      "source": [
        "#### **Interquartile Range**\n",
        "\n",
        "The IQR describes the middle 50% of values when ordered from lowest to highest. To find the interquartile range (IQR), ​first find the median (middle value) of the lower and upper half of the data. These values are quartile 1 (Q1) and quartile 3 (Q3). The IQR is the difference between Q3 and Q1 [(source)](https://www.khanacademy.org/math/cc-sixth-grade-math/cc-6th-data-statistics/cc-6th/v/calculating-interquartile-range-iqr#:~:text=The%20IQR%20describes%20the%20middle,upper%20half%20of%20the%20data.&text=The%20IQR%20is%20the%20difference%20between%20Q3%20and%20Q1.).  "
      ]
    },
    {
      "cell_type": "code",
      "metadata": {
        "id": "vKhaket4-6rg"
      },
      "source": [
        "# find the interquartile range\n"
      ],
      "execution_count": null,
      "outputs": []
    },
    {
      "cell_type": "markdown",
      "metadata": {
        "id": "k8AVeXWII1vK"
      },
      "source": [
        "We can also get the same result by importing a SciPy module. You can learn more about it [here](https://docs.scipy.org/doc/scipy/reference/stats.html)."
      ]
    },
    {
      "cell_type": "code",
      "metadata": {
        "id": "__jnNPl0_OjT"
      },
      "source": [
        "from scipy.stats import iqr\n",
        "\n",
        "iqr(order['item_price'])"
      ],
      "execution_count": null,
      "outputs": []
    },
    {
      "cell_type": "markdown",
      "metadata": {
        "id": "_tS1MB8bL5d-"
      },
      "source": [
        "This means that the range of the middle 50% of the data is 6.54."
      ]
    },
    {
      "cell_type": "markdown",
      "metadata": {
        "id": "hFi2dhkTvG8t"
      },
      "source": [
        "## 💨 **A Shortcut**\n",
        "\n",
        "Although it's important to know how to calculate measures of central tendency and spread individually, python has a very useful function that can do everything in one step. \n",
        "\n",
        "The `.describe()` function is a great summarisation tool that will quickly display statistics for any variable or group it is applied to. The `describe()` output varies depending on whether you apply it to a numeric or character column."
      ]
    },
    {
      "cell_type": "code",
      "metadata": {
        "id": "P5bcNhHzuoEr"
      },
      "source": [
        "# use the describe function \n"
      ],
      "execution_count": null,
      "outputs": []
    },
    {
      "cell_type": "markdown",
      "metadata": {
        "id": "y78QSMKqqXoE"
      },
      "source": [
        "\n",
        "\n",
        "---\n",
        "\n",
        "\n",
        "## ✏️ **Try It!**\n",
        "\n",
        "Using the Spotify dataset, answer the questions below:\n",
        "\n",
        "Spotify github url = https://raw.githubusercontent.com/mikaela-el/repo/master/kwk_spotify.csv"
      ]
    },
    {
      "cell_type": "code",
      "metadata": {
        "id": "xku4bp4vrpBZ"
      },
      "source": [
        "# load in data \n",
        "\n",
        "\n",
        "# preview data \n"
      ],
      "execution_count": null,
      "outputs": []
    },
    {
      "cell_type": "markdown",
      "metadata": {
        "id": "XWjJdumtsFP0"
      },
      "source": [
        "Use the Spotify dataset to answer the following questions:\n",
        "\n",
        "1. What is the average \"bpm\" in the dataset?\n",
        "2. what is the average \"dnce\" in the dataset?\n",
        "3. What is the highest \"nrgy\"?\n",
        "4. What is the lowest \"bpm\"?\n",
        "5. What is the standard deviation of the \"live\" column?\n",
        "6. What is the standard deviation of the \"dnce\" column?\n",
        "7. What is the value below which 50% of the obervations in the \"nrgy\" column can be found?\n",
        "8. What is the value above which 75% of the obervations in the \"live\" column can be found?\n",
        "\n"
      ]
    },
    {
      "cell_type": "markdown",
      "metadata": {
        "id": "EjlCb5KSkrPA"
      },
      "source": [
        "## **Congrats! You completed Intro to Stats 🎉**"
      ]
    }
  ]
}