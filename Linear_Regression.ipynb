{
  "nbformat": 4,
  "nbformat_minor": 0,
  "metadata": {
    "kernelspec": {
      "display_name": "Python 3",
      "language": "python",
      "name": "python3"
    },
    "language_info": {
      "codemirror_mode": {
        "name": "ipython",
        "version": 3
      },
      "file_extension": ".py",
      "mimetype": "text/x-python",
      "name": "python",
      "nbconvert_exporter": "python",
      "pygments_lexer": "ipython3",
      "version": "3.6.8"
    },
    "colab": {
      "name": "ANSWER - Code_along_Linear Regression.ipynb",
      "provenance": [],
      "collapsed_sections": [],
      "include_colab_link": true
    }
  },
  "cells": [
    {
      "cell_type": "markdown",
      "metadata": {
        "id": "view-in-github",
        "colab_type": "text"
      },
      "source": [
        "<a href=\"https://colab.research.google.com/github/katelyndiaz/KWK_DS2021/blob/main/Linear_Regression.ipynb\" target=\"_parent\"><img src=\"https://colab.research.google.com/assets/colab-badge.svg\" alt=\"Open In Colab\"/></a>"
      ]
    },
    {
      "cell_type": "markdown",
      "metadata": {
        "id": "EGbLV-i35Y4q"
      },
      "source": [
        "## A Complete Linear Regression Machine Learning Project"
      ]
    },
    {
      "cell_type": "markdown",
      "metadata": {
        "id": "k1AqdgvBmobz"
      },
      "source": [
        "### **1. Import Packages**"
      ]
    },
    {
      "cell_type": "code",
      "metadata": {
        "id": "zomDNjDK5Y4k"
      },
      "source": [
        "import pandas as pd\n",
        "import numpy as np\n",
        "import seaborn as sns\n",
        "import matplotlib.pyplot as plt\n",
        "\n",
        "from sklearn.linear_model import LinearRegression\n",
        "from sklearn.linear_model import LogisticRegression\n",
        "from sklearn.model_selection import train_test_split"
      ],
      "execution_count": null,
      "outputs": []
    },
    {
      "cell_type": "markdown",
      "metadata": {
        "id": "nMFUot4mm48J"
      },
      "source": [
        "### **2. Load in Data**"
      ]
    },
    {
      "cell_type": "markdown",
      "metadata": {
        "id": "0fUP2_855Y4q"
      },
      "source": [
        "#### Revisiting Spotify Data\n",
        "\n",
        "This data is originally from: https://www.kaggle.com/yamaerenay/spotify-dataset-19212020-160k-tracks\n",
        "\n",
        "Let's use this data to answer the question. If you are a musician and need help deciding how to create the next chart topping hit, what musical features should you highlight to improve the chances your song will be a popular hit?"
      ]
    },
    {
      "cell_type": "code",
      "metadata": {
        "id": "lfrS6dsPhaNl"
      },
      "source": [
        "# load in data \n",
        "song_data = pd.read_csv('spotify.csv')\n"
      ],
      "execution_count": null,
      "outputs": []
    },
    {
      "cell_type": "code",
      "metadata": {
        "colab": {
          "base_uri": "https://localhost:8080/",
          "height": 455
        },
        "id": "rFod8UeVWmqA",
        "outputId": "5cd419cc-fb22-432b-dca2-32f811518895"
      },
      "source": [
        "# preview data \n",
        "song_data.head()"
      ],
      "execution_count": null,
      "outputs": [
        {
          "output_type": "execute_result",
          "data": {
            "text/html": [
              "<div>\n",
              "<style scoped>\n",
              "    .dataframe tbody tr th:only-of-type {\n",
              "        vertical-align: middle;\n",
              "    }\n",
              "\n",
              "    .dataframe tbody tr th {\n",
              "        vertical-align: top;\n",
              "    }\n",
              "\n",
              "    .dataframe thead th {\n",
              "        text-align: right;\n",
              "    }\n",
              "</style>\n",
              "<table border=\"1\" class=\"dataframe\">\n",
              "  <thead>\n",
              "    <tr style=\"text-align: right;\">\n",
              "      <th></th>\n",
              "      <th>genres</th>\n",
              "      <th>artists</th>\n",
              "      <th>acousticness</th>\n",
              "      <th>danceability</th>\n",
              "      <th>duration_ms</th>\n",
              "      <th>energy</th>\n",
              "      <th>instrumentalness</th>\n",
              "      <th>liveness</th>\n",
              "      <th>loudness</th>\n",
              "      <th>speechiness</th>\n",
              "      <th>tempo</th>\n",
              "      <th>valence</th>\n",
              "      <th>popularity</th>\n",
              "      <th>key</th>\n",
              "      <th>mode</th>\n",
              "      <th>count</th>\n",
              "    </tr>\n",
              "  </thead>\n",
              "  <tbody>\n",
              "    <tr>\n",
              "      <th>0</th>\n",
              "      <td>['show tunes']</td>\n",
              "      <td>\"Cats\" 1981 Original London Cast</td>\n",
              "      <td>0.590111</td>\n",
              "      <td>0.467222</td>\n",
              "      <td>250318.555556</td>\n",
              "      <td>0.394003</td>\n",
              "      <td>0.011400</td>\n",
              "      <td>0.290833</td>\n",
              "      <td>-14.448000</td>\n",
              "      <td>0.210389</td>\n",
              "      <td>117.518111</td>\n",
              "      <td>0.389500</td>\n",
              "      <td>38.333333</td>\n",
              "      <td>5</td>\n",
              "      <td>1</td>\n",
              "      <td>9</td>\n",
              "    </tr>\n",
              "    <tr>\n",
              "      <th>1</th>\n",
              "      <td>[]</td>\n",
              "      <td>\"Cats\" 1983 Broadway Cast</td>\n",
              "      <td>0.862538</td>\n",
              "      <td>0.441731</td>\n",
              "      <td>287280.000000</td>\n",
              "      <td>0.406808</td>\n",
              "      <td>0.081158</td>\n",
              "      <td>0.315215</td>\n",
              "      <td>-10.690000</td>\n",
              "      <td>0.176212</td>\n",
              "      <td>103.044154</td>\n",
              "      <td>0.268865</td>\n",
              "      <td>30.576923</td>\n",
              "      <td>5</td>\n",
              "      <td>1</td>\n",
              "      <td>26</td>\n",
              "    </tr>\n",
              "    <tr>\n",
              "      <th>2</th>\n",
              "      <td>[]</td>\n",
              "      <td>\"Fiddler On The Roof” Motion Picture Chorus</td>\n",
              "      <td>0.856571</td>\n",
              "      <td>0.348286</td>\n",
              "      <td>328920.000000</td>\n",
              "      <td>0.286571</td>\n",
              "      <td>0.024593</td>\n",
              "      <td>0.325786</td>\n",
              "      <td>-15.230714</td>\n",
              "      <td>0.118514</td>\n",
              "      <td>77.375857</td>\n",
              "      <td>0.354857</td>\n",
              "      <td>34.857143</td>\n",
              "      <td>0</td>\n",
              "      <td>1</td>\n",
              "      <td>7</td>\n",
              "    </tr>\n",
              "    <tr>\n",
              "      <th>3</th>\n",
              "      <td>[]</td>\n",
              "      <td>\"Fiddler On The Roof” Motion Picture Orchestra</td>\n",
              "      <td>0.884926</td>\n",
              "      <td>0.425074</td>\n",
              "      <td>262890.962963</td>\n",
              "      <td>0.245770</td>\n",
              "      <td>0.073587</td>\n",
              "      <td>0.275481</td>\n",
              "      <td>-15.639370</td>\n",
              "      <td>0.123200</td>\n",
              "      <td>88.667630</td>\n",
              "      <td>0.372030</td>\n",
              "      <td>34.851852</td>\n",
              "      <td>0</td>\n",
              "      <td>1</td>\n",
              "      <td>27</td>\n",
              "    </tr>\n",
              "    <tr>\n",
              "      <th>4</th>\n",
              "      <td>[]</td>\n",
              "      <td>\"Joseph And The Amazing Technicolor Dreamcoat\"...</td>\n",
              "      <td>0.510714</td>\n",
              "      <td>0.467143</td>\n",
              "      <td>270436.142857</td>\n",
              "      <td>0.488286</td>\n",
              "      <td>0.009400</td>\n",
              "      <td>0.195000</td>\n",
              "      <td>-10.236714</td>\n",
              "      <td>0.098543</td>\n",
              "      <td>122.835857</td>\n",
              "      <td>0.482286</td>\n",
              "      <td>43.000000</td>\n",
              "      <td>5</td>\n",
              "      <td>1</td>\n",
              "      <td>7</td>\n",
              "    </tr>\n",
              "  </tbody>\n",
              "</table>\n",
              "</div>"
            ],
            "text/plain": [
              "           genres  ... count\n",
              "0  ['show tunes']  ...     9\n",
              "1              []  ...    26\n",
              "2              []  ...     7\n",
              "3              []  ...    27\n",
              "4              []  ...     7\n",
              "\n",
              "[5 rows x 16 columns]"
            ]
          },
          "metadata": {
            "tags": []
          },
          "execution_count": 8
        }
      ]
    },
    {
      "cell_type": "markdown",
      "metadata": {
        "id": "CxoYKbrk5Y4r"
      },
      "source": [
        "### **3. Data Cleaning & EDA** "
      ]
    },
    {
      "cell_type": "code",
      "metadata": {
        "colab": {
          "base_uri": "https://localhost:8080/"
        },
        "id": "FpLcq6qRc2MX",
        "outputId": "24d7b5c1-25fa-451f-baec-f58f83fc90fb"
      },
      "source": [
        "#look at shape \n",
        "song_data.shape"
      ],
      "execution_count": null,
      "outputs": [
        {
          "output_type": "execute_result",
          "data": {
            "text/plain": [
              "(28680, 16)"
            ]
          },
          "metadata": {
            "tags": []
          },
          "execution_count": 9
        }
      ]
    },
    {
      "cell_type": "code",
      "metadata": {
        "id": "M-Q2bawocm5O"
      },
      "source": [
        "# dropping the genre column because we don't need it and it is partially empty \n",
        "song_data=song_data.drop(['genres'], axis=1)"
      ],
      "execution_count": null,
      "outputs": []
    },
    {
      "cell_type": "markdown",
      "metadata": {
        "id": "5mHXvtbU8Nsz"
      },
      "source": [
        "\"Axis = 1\" specifies the axis along which the means are computed. Axis=0 along the rows, and axis=1 along the columns. "
      ]
    },
    {
      "cell_type": "code",
      "metadata": {
        "id": "Qy76r1dX5Y4s",
        "colab": {
          "base_uri": "https://localhost:8080/"
        },
        "outputId": "2559edad-b247-4bd7-e04f-918e329ad1cc"
      },
      "source": [
        "# Be sure to remove duplicates in any data\n",
        "song_data.drop_duplicates(inplace = True)\n",
        "\n",
        "# Count the values in the dataset\n",
        "song_data.info()"
      ],
      "execution_count": null,
      "outputs": [
        {
          "output_type": "stream",
          "text": [
            "<class 'pandas.core.frame.DataFrame'>\n",
            "Int64Index: 28680 entries, 0 to 28679\n",
            "Data columns (total 15 columns):\n",
            " #   Column            Non-Null Count  Dtype  \n",
            "---  ------            --------------  -----  \n",
            " 0   artists           28680 non-null  object \n",
            " 1   acousticness      28680 non-null  float64\n",
            " 2   danceability      28680 non-null  float64\n",
            " 3   duration_ms       28680 non-null  float64\n",
            " 4   energy            28680 non-null  float64\n",
            " 5   instrumentalness  28680 non-null  float64\n",
            " 6   liveness          28680 non-null  float64\n",
            " 7   loudness          28680 non-null  float64\n",
            " 8   speechiness       28680 non-null  float64\n",
            " 9   tempo             28680 non-null  float64\n",
            " 10  valence           28680 non-null  float64\n",
            " 11  popularity        28680 non-null  float64\n",
            " 12  key               28680 non-null  int64  \n",
            " 13  mode              28680 non-null  int64  \n",
            " 14  count             28680 non-null  int64  \n",
            "dtypes: float64(11), int64(3), object(1)\n",
            "memory usage: 3.5+ MB\n"
          ],
          "name": "stdout"
        }
      ]
    },
    {
      "cell_type": "markdown",
      "metadata": {
        "id": "bQb4Kpq_85_j"
      },
      "source": [
        "[read more about \"inplace = True\"](https://www.ritchieng.com/pandas-inplace-parameter/)"
      ]
    },
    {
      "cell_type": "code",
      "metadata": {
        "id": "d3Hj-STb5Y4s",
        "colab": {
          "base_uri": "https://localhost:8080/",
          "height": 297
        },
        "outputId": "6975a506-0a9d-40e6-e4cf-56bd7cd9ab22"
      },
      "source": [
        "# Print high level summaries of what is in the dataset\n",
        "song_data.describe()"
      ],
      "execution_count": null,
      "outputs": [
        {
          "output_type": "execute_result",
          "data": {
            "text/html": [
              "<div>\n",
              "<style scoped>\n",
              "    .dataframe tbody tr th:only-of-type {\n",
              "        vertical-align: middle;\n",
              "    }\n",
              "\n",
              "    .dataframe tbody tr th {\n",
              "        vertical-align: top;\n",
              "    }\n",
              "\n",
              "    .dataframe thead th {\n",
              "        text-align: right;\n",
              "    }\n",
              "</style>\n",
              "<table border=\"1\" class=\"dataframe\">\n",
              "  <thead>\n",
              "    <tr style=\"text-align: right;\">\n",
              "      <th></th>\n",
              "      <th>acousticness</th>\n",
              "      <th>danceability</th>\n",
              "      <th>duration_ms</th>\n",
              "      <th>energy</th>\n",
              "      <th>instrumentalness</th>\n",
              "      <th>liveness</th>\n",
              "      <th>loudness</th>\n",
              "      <th>speechiness</th>\n",
              "      <th>tempo</th>\n",
              "      <th>valence</th>\n",
              "      <th>popularity</th>\n",
              "      <th>key</th>\n",
              "      <th>mode</th>\n",
              "      <th>count</th>\n",
              "    </tr>\n",
              "  </thead>\n",
              "  <tbody>\n",
              "    <tr>\n",
              "      <th>count</th>\n",
              "      <td>28680.000000</td>\n",
              "      <td>28680.000000</td>\n",
              "      <td>2.868000e+04</td>\n",
              "      <td>28680.000000</td>\n",
              "      <td>28680.000000</td>\n",
              "      <td>28680.000000</td>\n",
              "      <td>28680.000000</td>\n",
              "      <td>28680.000000</td>\n",
              "      <td>28680.000000</td>\n",
              "      <td>28680.000000</td>\n",
              "      <td>28680.000000</td>\n",
              "      <td>28680.000000</td>\n",
              "      <td>28680.000000</td>\n",
              "      <td>28680.000000</td>\n",
              "    </tr>\n",
              "    <tr>\n",
              "      <th>mean</th>\n",
              "      <td>0.498373</td>\n",
              "      <td>0.546490</td>\n",
              "      <td>2.388780e+05</td>\n",
              "      <td>0.497488</td>\n",
              "      <td>0.174756</td>\n",
              "      <td>0.202441</td>\n",
              "      <td>-11.140498</td>\n",
              "      <td>0.094014</td>\n",
              "      <td>115.844830</td>\n",
              "      <td>0.512723</td>\n",
              "      <td>34.060945</td>\n",
              "      <td>5.412901</td>\n",
              "      <td>0.759170</td>\n",
              "      <td>13.847211</td>\n",
              "    </tr>\n",
              "    <tr>\n",
              "      <th>std</th>\n",
              "      <td>0.370614</td>\n",
              "      <td>0.176474</td>\n",
              "      <td>1.211318e+05</td>\n",
              "      <td>0.254885</td>\n",
              "      <td>0.298406</td>\n",
              "      <td>0.140884</td>\n",
              "      <td>5.771749</td>\n",
              "      <td>0.111986</td>\n",
              "      <td>25.003834</td>\n",
              "      <td>0.244421</td>\n",
              "      <td>22.376438</td>\n",
              "      <td>3.480552</td>\n",
              "      <td>0.427595</td>\n",
              "      <td>53.372544</td>\n",
              "    </tr>\n",
              "    <tr>\n",
              "      <th>min</th>\n",
              "      <td>0.000000</td>\n",
              "      <td>0.000000</td>\n",
              "      <td>1.879550e+04</td>\n",
              "      <td>0.000000</td>\n",
              "      <td>0.000000</td>\n",
              "      <td>0.000000</td>\n",
              "      <td>-60.000000</td>\n",
              "      <td>0.000000</td>\n",
              "      <td>0.000000</td>\n",
              "      <td>0.000000</td>\n",
              "      <td>0.000000</td>\n",
              "      <td>0.000000</td>\n",
              "      <td>0.000000</td>\n",
              "      <td>1.000000</td>\n",
              "    </tr>\n",
              "    <tr>\n",
              "      <th>25%</th>\n",
              "      <td>0.122296</td>\n",
              "      <td>0.431000</td>\n",
              "      <td>1.823304e+05</td>\n",
              "      <td>0.283568</td>\n",
              "      <td>0.000004</td>\n",
              "      <td>0.110363</td>\n",
              "      <td>-13.972292</td>\n",
              "      <td>0.039200</td>\n",
              "      <td>99.366500</td>\n",
              "      <td>0.329000</td>\n",
              "      <td>12.000000</td>\n",
              "      <td>2.000000</td>\n",
              "      <td>1.000000</td>\n",
              "      <td>2.000000</td>\n",
              "    </tr>\n",
              "    <tr>\n",
              "      <th>50%</th>\n",
              "      <td>0.478458</td>\n",
              "      <td>0.557000</td>\n",
              "      <td>2.186400e+05</td>\n",
              "      <td>0.504000</td>\n",
              "      <td>0.001880</td>\n",
              "      <td>0.161000</td>\n",
              "      <td>-10.088938</td>\n",
              "      <td>0.052200</td>\n",
              "      <td>115.357400</td>\n",
              "      <td>0.523243</td>\n",
              "      <td>39.000000</td>\n",
              "      <td>6.000000</td>\n",
              "      <td>1.000000</td>\n",
              "      <td>3.000000</td>\n",
              "    </tr>\n",
              "    <tr>\n",
              "      <th>75%</th>\n",
              "      <td>0.896000</td>\n",
              "      <td>0.675000</td>\n",
              "      <td>2.684670e+05</td>\n",
              "      <td>0.702783</td>\n",
              "      <td>0.215291</td>\n",
              "      <td>0.247000</td>\n",
              "      <td>-6.889000</td>\n",
              "      <td>0.095300</td>\n",
              "      <td>129.848750</td>\n",
              "      <td>0.703000</td>\n",
              "      <td>51.000000</td>\n",
              "      <td>8.000000</td>\n",
              "      <td>1.000000</td>\n",
              "      <td>8.000000</td>\n",
              "    </tr>\n",
              "    <tr>\n",
              "      <th>max</th>\n",
              "      <td>0.996000</td>\n",
              "      <td>0.986000</td>\n",
              "      <td>5.403500e+06</td>\n",
              "      <td>1.000000</td>\n",
              "      <td>1.000000</td>\n",
              "      <td>0.991000</td>\n",
              "      <td>1.342000</td>\n",
              "      <td>0.964000</td>\n",
              "      <td>217.743000</td>\n",
              "      <td>0.991000</td>\n",
              "      <td>93.000000</td>\n",
              "      <td>11.000000</td>\n",
              "      <td>1.000000</td>\n",
              "      <td>3169.000000</td>\n",
              "    </tr>\n",
              "  </tbody>\n",
              "</table>\n",
              "</div>"
            ],
            "text/plain": [
              "       acousticness  danceability  ...          mode         count\n",
              "count  28680.000000  28680.000000  ...  28680.000000  28680.000000\n",
              "mean       0.498373      0.546490  ...      0.759170     13.847211\n",
              "std        0.370614      0.176474  ...      0.427595     53.372544\n",
              "min        0.000000      0.000000  ...      0.000000      1.000000\n",
              "25%        0.122296      0.431000  ...      1.000000      2.000000\n",
              "50%        0.478458      0.557000  ...      1.000000      3.000000\n",
              "75%        0.896000      0.675000  ...      1.000000      8.000000\n",
              "max        0.996000      0.986000  ...      1.000000   3169.000000\n",
              "\n",
              "[8 rows x 14 columns]"
            ]
          },
          "metadata": {
            "tags": []
          },
          "execution_count": 12
        }
      ]
    },
    {
      "cell_type": "markdown",
      "metadata": {
        "id": "PRbwN9Bh5Y4s"
      },
      "source": [
        "#### What do all these features mean? \n",
        "\n",
        "Check Spotify's documentation to see what each column value mean: https://developer.spotify.com/documentation/web-api/reference/tracks/get-audio-features/"
      ]
    },
    {
      "cell_type": "markdown",
      "metadata": {
        "id": "2JS7uKcw5Y4s"
      },
      "source": [
        "#### Feature Selection\n",
        "\n",
        "**Correlation Matrix**\n",
        "\n",
        "Typically, a correlation matrix is “square”, with the same variables shown in the rows and columns. I've shown an example below. This shows correlations between the stated importance of various things to people. The line of 1.00s going from the top left to the bottom right is the main diagonal, which shows that each variable always perfectly correlates with itself. This matrix is symmetrical, with the same correlation is shown above the main diagonal being a mirror image of those below the main diagonal.\n",
        "\n"
      ]
    },
    {
      "cell_type": "code",
      "metadata": {
        "colab": {
          "base_uri": "https://localhost:8080/",
          "height": 797
        },
        "id": "Vtr6tav-5Y4t",
        "outputId": "635f52ca-9406-4c12-d47f-eb7cc99b096e"
      },
      "source": [
        "# create a correlation matrix \n",
        "\n",
        "# set the figure size \n",
        "plt.subplots(figsize=(18, 12))\n",
        "\n",
        "# create var for matrix \n",
        "corr = song_data.corr()\n",
        "\n",
        "# plot the cor matrix \n",
        "sns.heatmap(corr, xticklabels=corr.columns.values, yticklabels=corr.columns.values, linewidths=.5,annot=True)\n",
        "\n",
        "#change the color palette\n",
        "sns.color_palette(\"coolwarm\", as_cmap=True)"
      ],
      "execution_count": null,
      "outputs": [
        {
          "output_type": "execute_result",
          "data": {
            "text/plain": [
              "<matplotlib.colors.LinearSegmentedColormap at 0x7f18fe0a5c10>"
            ]
          },
          "metadata": {
            "tags": []
          },
          "execution_count": 13
        },
        {
          "output_type": "display_data",
          "data": {
            "image/png": "[encoded data removed]",
            "text/plain": [
              "<Figure size 1296x864 with 2 Axes>"
            ]
          },
          "metadata": {
            "tags": [],
            "needs_background": "light"
          }
        }
      ]
    },
    {
      "cell_type": "markdown",
      "metadata": {
        "id": "XTiMjvgx-pPt"
      },
      "source": [
        "***INTERPRETATION: One way to quantify this relationship is to use the Pearson correlation coefficient, which is a measure of the linear association between two variables. It has a value between -1 and 1 where:***\n",
        "\n",
        "* ***-1 indicates a perfectly negative linear correlation between two variables***\n",
        "* ***0 indicates no linear correlation between two variables***\n",
        "* ***1 indicates a perfectly positive linear correlation between two variables*** \n",
        "\n",
        "***The further away the correlation coefficient is from zero, the stronger the relationship between the two variables.***\n",
        "\n",
        "Each cell in the table shows the correlation between two specific variables. For example, the highlighted cell below shows that the correlation between “energy” and “loudness” is 0.79, which indicates that they’re **strongly positively correlated**. More energy is strongly related to loudness."
      ]
    },
    {
      "cell_type": "markdown",
      "metadata": {
        "id": "-x_XSH-u5Y4t"
      },
      "source": [
        "#### Avoid Features that are highly correlated with each other\n",
        "\n",
        "This is called 'Multicolinearity' and can confuse the model. If two separate features are highly correlated, the model will have a hard time distinguishing which has the greater predictive influence. In the above case, 'Loudness' and 'Energy' are highly correlated, and we should retain only one of them as a feature. You can read more about multicollinearity here: https://en.wikipedia.org/wiki/Multicollinearity#:~:text=Multicollinearity%20refers%20to%20a%20situation,equal%20to%201%20or%20%E2%88%921. "
      ]
    },
    {
      "cell_type": "markdown",
      "metadata": {
        "id": "BgZB47WX5Y4t"
      },
      "source": [
        "### **4. Exploratory Plots**"
      ]
    },
    {
      "cell_type": "markdown",
      "metadata": {
        "id": "8ouEs5cq5Y4t"
      },
      "source": [
        "We have over 100,000 data points. It would be hard to discern patterns in plotting that many points, so in this case we can randomly sample a smaller set to plot and explore the data."
      ]
    },
    {
      "cell_type": "code",
      "metadata": {
        "id": "ZGjX7VS05Y4t"
      },
      "source": [
        "# create a smaller data set\n",
        "songs_lite = song_data.sample(n=500)"
      ],
      "execution_count": null,
      "outputs": []
    },
    {
      "cell_type": "markdown",
      "metadata": {
        "id": "KzhcbRx69kvc"
      },
      "source": [
        "[learn more about the sample function](https://www.geeksforgeeks.org/python-random-sample-function/#:~:text=sample()%20is%20an%20inbuilt,for%20random%20sampling%20without%20replacement.)"
      ]
    },
    {
      "cell_type": "code",
      "metadata": {
        "id": "T6buOcgU5Y4t",
        "colab": {
          "base_uri": "https://localhost:8080/"
        },
        "outputId": "09c5373b-c134-4cf2-a3d8-52df68025a23"
      },
      "source": [
        "# check the columns \n",
        "songs_lite.columns"
      ],
      "execution_count": null,
      "outputs": [
        {
          "output_type": "execute_result",
          "data": {
            "text/plain": [
              "Index(['artists', 'acousticness', 'danceability', 'duration_ms', 'energy',\n",
              "       'instrumentalness', 'liveness', 'loudness', 'speechiness', 'tempo',\n",
              "       'valence', 'popularity', 'key', 'mode', 'count'],\n",
              "      dtype='object')"
            ]
          },
          "metadata": {
            "tags": []
          },
          "execution_count": 15
        }
      ]
    },
    {
      "cell_type": "code",
      "metadata": {
        "colab": {
          "base_uri": "https://localhost:8080/",
          "height": 295
        },
        "id": "z8FXLKn8TFYZ",
        "outputId": "e53bd963-f0d6-4664-f1b7-adb3a19170ea"
      },
      "source": [
        "# scatter plot for danceability and popularity\n",
        "songs_lite.plot(x='danceability', y='popularity', style='o')\n",
        "plt.xlabel('danceability')\n",
        "plt.ylabel('Popularity')\n",
        "plt.show()"
      ],
      "execution_count": null,
      "outputs": [
        {
          "output_type": "display_data",
          "data": {
            "image/png": "[encoded data removed]",
            "text/plain": [
              "<Figure size 432x288 with 1 Axes>"
            ]
          },
          "metadata": {
            "tags": [],
            "needs_background": "light"
          }
        }
      ]
    },
    {
      "cell_type": "code",
      "metadata": {
        "colab": {
          "base_uri": "https://localhost:8080/",
          "height": 278
        },
        "id": "Cikx4ClwTqZE",
        "outputId": "a9b0a9ea-45a7-40bd-9d4b-467ef927d174"
      },
      "source": [
        "# scatter plot for loudness and popularity\n",
        "songs_lite.plot(x='loudness', y='popularity', style='o')\n",
        "plt.xlabel('loudness')\n",
        "plt.ylabel('Popularity')\n",
        "plt.show()"
      ],
      "execution_count": null,
      "outputs": [
        {
          "output_type": "display_data",
          "data": {
            "image/png": "[encoded data removed]",
            "text/plain": [
              "<Figure size 432x288 with 1 Axes>"
            ]
          },
          "metadata": {
            "tags": [],
            "needs_background": "light"
          }
        }
      ]
    },
    {
      "cell_type": "markdown",
      "metadata": {
        "id": "K4j_WDDP5Y4u"
      },
      "source": [
        "### **5. Split Data into Test and Train Datasets**\n",
        "\n",
        "We will split the data into one set for training, and one set that we hold to the end to score the model's performance on data it has never seen (test set).\n",
        "\n",
        "**Preparing the Data** <br>\n",
        "The next step is to divide the data into \"attributes\" and \"labels\". Attributes are the independent variables while labels are dependent variables whose values are to be predicted. We want to predict the popularity depending on the other variables. To extract the attributes and labels, execute the following script:"
      ]
    },
    {
      "cell_type": "code",
      "metadata": {
        "colab": {
          "base_uri": "https://localhost:8080/"
        },
        "id": "Fln62TYm6iAl",
        "outputId": "638ad6d8-cee2-42da-b1eb-452284e2e7c6"
      },
      "source": [
        "# looking at all our columns\n",
        "song_data.columns"
      ],
      "execution_count": null,
      "outputs": [
        {
          "output_type": "execute_result",
          "data": {
            "text/plain": [
              "Index(['artists', 'acousticness', 'danceability', 'duration_ms', 'energy',\n",
              "       'instrumentalness', 'liveness', 'loudness', 'speechiness', 'tempo',\n",
              "       'valence', 'popularity', 'key', 'mode', 'count'],\n",
              "      dtype='object')"
            ]
          },
          "metadata": {
            "tags": []
          },
          "execution_count": 18
        }
      ]
    },
    {
      "cell_type": "code",
      "metadata": {
        "id": "E_KasvZI5Y4u"
      },
      "source": [
        "# drop columns we don't want + the \n",
        "X_songs = song_data.drop(columns=[\"popularity\",\"artists\", \"loudness\"])\n",
        "y_songs = song_data[['popularity']]"
      ],
      "execution_count": null,
      "outputs": []
    },
    {
      "cell_type": "markdown",
      "metadata": {
        "id": "bzSan0ou3Yoh"
      },
      "source": [
        "The attributes are stored in the X variable. We specified drop \"popularity\"  from the columns since we wanted our attribute set to contain all the columns except the last one, which is \"popularity\". We also don't want to include \"loudness\" because it could cause multicollinearity. Finally, we dropped \"artists\" because we do not want any categorical variables. Similarly the y variable contains the labels. We specified \"popularity\" for the label. \n",
        "\n",
        "\n",
        "Test vs Training Set \n",
        "*   training set—a subset to train a model.\n",
        "*   test set—a subset to test the trained model.\n",
        "\n",
        "\n"
      ]
    },
    {
      "cell_type": "code",
      "metadata": {
        "id": "8Pmi9N1Z5Y4v"
      },
      "source": [
        "# hold out 20% of the data for final testing\n",
        "X_train, X_test, y_train, y_test = train_test_split(X_songs, y_songs, test_size=.20) # test_size variable sets the % of your split"
      ],
      "execution_count": null,
      "outputs": []
    },
    {
      "cell_type": "markdown",
      "metadata": {
        "id": "B5uRH3e63wPa"
      },
      "source": [
        "The above script splits 80% of the data to training set while 20% of the data to test set. The test_size variable is where we actually specify the proportion of test set."
      ]
    },
    {
      "cell_type": "code",
      "metadata": {
        "id": "Ar4q58em5Y4v",
        "colab": {
          "base_uri": "https://localhost:8080/"
        },
        "outputId": "6d7ce615-34e8-4ff5-e6f8-53a15582f18b"
      },
      "source": [
        "# tell us how many data points are in each set  \n",
        "print(\"Songs in Train set:\", len(X_train))\n",
        "print(\"Songs in Test set:\", len(X_test))"
      ],
      "execution_count": null,
      "outputs": [
        {
          "output_type": "stream",
          "text": [
            "Songs in Train set: 22944\n",
            "Songs in Test set: 5736\n"
          ],
          "name": "stdout"
        }
      ]
    },
    {
      "cell_type": "markdown",
      "metadata": {
        "id": "2pxBvZJu5Y4v"
      },
      "source": [
        "### **6. Train the Model**"
      ]
    },
    {
      "cell_type": "markdown",
      "metadata": {
        "id": "jbIGeZ7d336Q"
      },
      "source": [
        "With Scikit-Learn it is extremely straight forward to implement linear regression models, as all you really need to do is import the LinearRegression class, instantiate it, and call the fit() method along with our training data. This is about as simple as it gets when using a machine learning library to train on your data.\n",
        "\n",
        "In the theory section we said that linear regression model basically finds the best value for the intercept and slope, which results in a line that best fits the data. To see the value of the intercept and slope calculated by the linear regression algorithm for our dataset, execute the following code.\n",
        "\n"
      ]
    },
    {
      "cell_type": "code",
      "metadata": {
        "id": "uH-W9fGC5Y4v",
        "colab": {
          "base_uri": "https://localhost:8080/"
        },
        "outputId": "d0ac97ba-0ae2-4457-8337-dda28871000d"
      },
      "source": [
        "# instanciate the model\n",
        "song_linear_regression = LinearRegression()\n",
        "\n",
        "# fit the model \n",
        "song_linear_regression.fit(X_train,y_train)"
      ],
      "execution_count": null,
      "outputs": [
        {
          "output_type": "execute_result",
          "data": {
            "text/plain": [
              "LinearRegression(copy_X=True, fit_intercept=True, n_jobs=None, normalize=False)"
            ]
          },
          "metadata": {
            "tags": []
          },
          "execution_count": 23
        }
      ]
    },
    {
      "cell_type": "code",
      "metadata": {
        "id": "JI_q095N5Y4v",
        "colab": {
          "base_uri": "https://localhost:8080/"
        },
        "outputId": "091e41df-0b33-4d04-be0b-4f7117ba3e39"
      },
      "source": [
        "# score the model on train set\n",
        "song_linear_regression.score(X_train,y_train)"
      ],
      "execution_count": null,
      "outputs": [
        {
          "output_type": "execute_result",
          "data": {
            "text/plain": [
              "0.3591892593341841"
            ]
          },
          "metadata": {
            "tags": []
          },
          "execution_count": 24
        }
      ]
    },
    {
      "cell_type": "markdown",
      "metadata": {
        "id": "MioZidhp5Y4v"
      },
      "source": [
        "The most common interpretation of r-squared is how well the regression model fits the observed data. In our example, the r-squared of 35% reveals that 35% of the data fit the regression model. Generally, a higher r-squared indicates a better fit for the model but 35% is not terrible.  \n"
      ]
    },
    {
      "cell_type": "markdown",
      "metadata": {
        "id": "gnvJp41Z5Y4w"
      },
      "source": [
        "### **7. Score the Model on the Test Set**\n"
      ]
    },
    {
      "cell_type": "code",
      "metadata": {
        "id": "rDwp_eYP5Y4w",
        "colab": {
          "base_uri": "https://localhost:8080/"
        },
        "outputId": "d1f70e4d-a618-4acc-ad1f-2f9ca75bfd99"
      },
      "source": [
        "# score on test set\n",
        "song_linear_regression.score( X_test,y_test)"
      ],
      "execution_count": null,
      "outputs": [
        {
          "output_type": "execute_result",
          "data": {
            "text/plain": [
              "0.3439301605794163"
            ]
          },
          "metadata": {
            "tags": []
          },
          "execution_count": 25
        }
      ]
    },
    {
      "cell_type": "markdown",
      "metadata": {
        "id": "rzlyseJq5Y4x"
      },
      "source": [
        "Our final test R-squared score remains at 38% which means our model predicted equally well on test data it was not trained on. This is a good indicator that it will also perform well on future data that we dont know the popularity of."
      ]
    },
    {
      "cell_type": "markdown",
      "metadata": {
        "id": "l4zjZhFv5Y4x"
      },
      "source": [
        "### **8. Predict Using the Model**"
      ]
    },
    {
      "cell_type": "markdown",
      "metadata": {
        "id": "rb5NdDHU5Y4x"
      },
      "source": [
        "Let's say you're a musician with a new track and you're in the studio deciding how the song should come together. You could analyse the track along the features to predict how popular it may be on Spotify. \n",
        "\n",
        "Your track's features could be expressed as:"
      ]
    },
    {
      "cell_type": "code",
      "metadata": {
        "id": "cKjf8kT35Y4x"
      },
      "source": [
        "acousticness = 0.25\n",
        "danceability = 0.75\n",
        "duration_ms = 240000\n",
        "energy = .75\n",
        "explicit = 1\n",
        "instrumentalness = 0.05\n",
        "key = 5\n",
        "liveness = .2\n",
        "mode = 1\n",
        "speechiness = .1\n",
        "tempo = 110\n",
        "valence = .5"
      ],
      "execution_count": null,
      "outputs": []
    },
    {
      "cell_type": "markdown",
      "metadata": {
        "id": "iBuK7XNr5Y4x"
      },
      "source": [
        "Predict the popularity of a song using the model we trained:"
      ]
    },
    {
      "cell_type": "code",
      "metadata": {
        "id": "XGryro7X5Y4x",
        "colab": {
          "base_uri": "https://localhost:8080/"
        },
        "outputId": "eea5b556-7a70-4494-d7bc-489e09f6d5a7"
      },
      "source": [
        "# predict popularity\n",
        "song_linear_regression.predict([[acousticness, danceability, duration_ms, energy, explicit, instrumentalness, key, liveness, mode, speechiness, tempo, valence]])"
      ],
      "execution_count": null,
      "outputs": [
        {
          "output_type": "execute_result",
          "data": {
            "text/plain": [
              "array([[-188.71265884]])"
            ]
          },
          "metadata": {
            "tags": []
          },
          "execution_count": 27
        }
      ]
    },
    {
      "cell_type": "markdown",
      "metadata": {
        "id": "4vXAARNr-uqf"
      },
      "source": [
        "***INTERPRETATION: The output of the cell above is the popularity of our song using the model we trained. Based on the specific features above, our song would have a popularity score of -188 (that doesn't seem very popular). If i was the artist, I would not create a song with those track features!***  "
      ]
    },
    {
      "cell_type": "markdown",
      "metadata": {
        "id": "QKQzK4gd5Y4y"
      },
      "source": [
        "How does the model predict the popularity? We can take a look at the coefficients for each feature"
      ]
    },
    {
      "cell_type": "code",
      "metadata": {
        "id": "snEx8l2N5Y4y",
        "colab": {
          "base_uri": "https://localhost:8080/"
        },
        "outputId": "a7fc9f86-27bb-403d-eb3f-c46f0c19ddcf"
      },
      "source": [
        "#look at coef\n",
        "song_features = zip(list(X_train.columns), song_linear_regression.coef_[0])\n",
        "\n",
        "for song_feature in song_features: \n",
        "    print(song_feature)"
      ],
      "execution_count": null,
      "outputs": [
        {
          "output_type": "stream",
          "text": [
            "('acousticness', -29.346766513404962)\n",
            "('danceability', 14.66283075413425)\n",
            "('duration_ms', -7.259300865314344e-06)\n",
            "('energy', 3.2295206428771923)\n",
            "('instrumentalness', -8.71409885137243)\n",
            "('liveness', -14.80921299412499)\n",
            "('speechiness', -12.05000085074734)\n",
            "('tempo', -0.0007756853838993393)\n",
            "('valence', -19.208649562871745)\n",
            "('key', -0.058260512513263606)\n",
            "('mode', -1.4747331054124357)\n",
            "('count', -0.01075259389236953)\n"
          ],
          "name": "stdout"
        }
      ]
    },
    {
      "cell_type": "markdown",
      "metadata": {
        "id": "gy8f_no7VM_9"
      },
      "source": [
        "The danceability coefficient in the regression equation is 14.6. This coefficient represents the mean increase of popularity for every additional one meter in danceability. If your danceability increases by 1, the average popularity increases by 14.6. "
      ]
    },
    {
      "cell_type": "markdown",
      "metadata": {
        "id": "JOnYf4uwUXuX"
      },
      "source": [
        "The sign of a regression coefficient tells you whether there is a positive or negative correlation between each independent variable and the dependent variable. A positive coefficient indicates that as the value of the independent variable increases, the mean of the dependent variable also tends to increase. A negative coefficient suggests that as the independent variable increases, the dependent variable tends to decrease.\n",
        "\n",
        "\n",
        "The coefficient value signifies how much the mean of the dependent variable changes given a one-unit shift in the independent variable while holding other variables in the model constant. This property of holding the other variables constant is crucial because it allows you to assess the effect of each variable in isolation from the others."
      ]
    },
    {
      "cell_type": "markdown",
      "metadata": {
        "id": "Zjl0aQ_U5Y4y"
      },
      "source": [
        "Play around with the features to see how it impacts the popularity prediction. If you are a musician in a studio, what features would you highlight or minimize to create a chart-topping hit? "
      ]
    },
    {
      "cell_type": "markdown",
      "metadata": {
        "id": "-lr_xcoh5Y4y"
      },
      "source": [
        "### **Next Steps**\n",
        "\n",
        "The use of validation data sets when selecting between different potential models. "
      ]
    }
  ]
}